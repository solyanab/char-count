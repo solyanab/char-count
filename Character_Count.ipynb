{
  "nbformat": 4,
  "nbformat_minor": 0,
  "metadata": {
    "colab": {
      "name": "Character Count ",
      "provenance": [],
      "authorship_tag": "ABX9TyPbH9dsIHxaRvAL6XJABDcA",
      "include_colab_link": true
    },
    "kernelspec": {
      "name": "python3",
      "display_name": "Python 3"
    },
    "language_info": {
      "name": "python"
    }
  },
  "cells": [
    {
      "cell_type": "markdown",
      "metadata": {
        "id": "view-in-github",
        "colab_type": "text"
      },
      "source": [
        "<a href=\"https://colab.research.google.com/github/solyanab/char-count/blob/main/Character_Count.ipynb\" target=\"_parent\"><img src=\"https://colab.research.google.com/assets/colab-badge.svg\" alt=\"Open In Colab\"/></a>"
      ]
    },
    {
      "cell_type": "code",
      "metadata": {
        "id": "m_4wmjZzdF3z",
        "colab": {
          "base_uri": "https://localhost:8080/"
        },
        "outputId": "b919e745-d093-49c4-912f-59f6cf69ab4b"
      },
      "source": [
        "word = input(\"Type in any word:\")\n",
        "amount = len(word)\n",
        "print(f\"There are {amount} letters in the word you typed.\")\n"
      ],
      "execution_count": null,
      "outputs": [
        {
          "output_type": "stream",
          "text": [
            "Type in any word:planning\n",
            "There are 8 letters in the word you typed.\n"
          ],
          "name": "stdout"
        }
      ]
    }
  ]
}